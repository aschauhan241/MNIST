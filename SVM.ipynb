{
 "cells": [
  {
   "cell_type": "code",
   "execution_count": 2,
   "id": "b75142db",
   "metadata": {},
   "outputs": [],
   "source": [
    "import numpy as np\n",
    "import pandas as pd\n",
    "import matplotlib.pyplot as plt\n",
    "\n",
    "from sklearn.datasets import fetch_openml\n",
    "mnist = fetch_openml('mnist_784', version=1, cache=True, as_frame=False)\n",
    "\n",
    "X = mnist[\"data\"]\n",
    "y = mnist[\"target\"].astype(np.uint8)\n",
    "\n",
    "X_train = X[:60000]\n",
    "y_train = y[:60000]\n",
    "X_test = X[60000:]\n",
    "y_test = y[60000:]"
   ]
  },
  {
   "cell_type": "code",
   "execution_count": 3,
   "id": "202d6af3",
   "metadata": {},
   "outputs": [],
   "source": [
    "from sklearn.svm import SVC, LinearSVC\n",
    "from sklearn.linear_model import SGDClassifier\n",
    "from sklearn.preprocessing import StandardScaler"
   ]
  },
  {
   "cell_type": "code",
   "execution_count": 4,
   "id": "6531842a",
   "metadata": {},
   "outputs": [
    {
     "name": "stderr",
     "output_type": "stream",
     "text": [
      "c:\\users\\ashutosh\\appdata\\local\\programs\\python\\python39\\lib\\site-packages\\sklearn\\svm\\_base.py:985: ConvergenceWarning: Liblinear failed to converge, increase the number of iterations.\n",
      "  warnings.warn(\"Liblinear failed to converge, increase \"\n"
     ]
    },
    {
     "data": {
      "text/plain": [
       "LinearSVC(random_state=42)"
      ]
     },
     "execution_count": 4,
     "metadata": {},
     "output_type": "execute_result"
    }
   ],
   "source": [
    "lin_clf = LinearSVC(random_state=42)\n",
    "lin_clf.fit(X_train, y_train)"
   ]
  },
  {
   "cell_type": "code",
   "execution_count": 5,
   "id": "ca9addc3",
   "metadata": {},
   "outputs": [
    {
     "data": {
      "text/plain": [
       "0.8348666666666666"
      ]
     },
     "execution_count": 5,
     "metadata": {},
     "output_type": "execute_result"
    }
   ],
   "source": [
    "from sklearn.metrics import accuracy_score\n",
    "\n",
    "y_pred = lin_clf.predict(X_train)\n",
    "accuracy_score(y_train, y_pred)"
   ]
  },
  {
   "cell_type": "code",
   "execution_count": 6,
   "id": "53e67c66",
   "metadata": {},
   "outputs": [
    {
     "data": {
      "text/plain": [
       "0.8236"
      ]
     },
     "execution_count": 6,
     "metadata": {},
     "output_type": "execute_result"
    }
   ],
   "source": [
    "y_pred_test = lin_clf.predict(X_test)\n",
    "accuracy_score(y_test, y_pred_test)"
   ]
  },
  {
   "cell_type": "code",
   "execution_count": 7,
   "id": "8034c9cc",
   "metadata": {},
   "outputs": [],
   "source": [
    "scaler = StandardScaler()\n",
    "X_train_scaled = scaler.fit_transform(X_train.astype(np.float32))\n",
    "X_test_scaled = scaler.transform(X_test.astype(np.float32))"
   ]
  },
  {
   "cell_type": "code",
   "execution_count": 8,
   "id": "1cc01866",
   "metadata": {},
   "outputs": [
    {
     "data": {
      "text/plain": [
       "SVC()"
      ]
     },
     "execution_count": 8,
     "metadata": {},
     "output_type": "execute_result"
    }
   ],
   "source": [
    "svm_clf = SVC(gamma=\"scale\")\n",
    "svm_clf.fit(X_train_scaled[:10000], y_train[:10000])"
   ]
  },
  {
   "cell_type": "code",
   "execution_count": 9,
   "id": "82ec6712",
   "metadata": {},
   "outputs": [
    {
     "data": {
      "text/plain": [
       "0.9455333333333333"
      ]
     },
     "execution_count": 9,
     "metadata": {},
     "output_type": "execute_result"
    }
   ],
   "source": [
    "y_pred = svm_clf.predict(X_train_scaled)\n",
    "accuracy_score(y_train, y_pred)"
   ]
  },
  {
   "cell_type": "code",
   "execution_count": 10,
   "id": "997c7438",
   "metadata": {},
   "outputs": [
    {
     "name": "stdout",
     "output_type": "stream",
     "text": [
      "Fitting 3 folds for each of 10 candidates, totalling 30 fits\n",
      "[CV] END ...C=4.324834213672926, gamma=0.0069477632349128635; total time=   0.3s\n",
      "[CV] END ...C=4.324834213672926, gamma=0.0069477632349128635; total time=   0.2s\n",
      "[CV] END ...C=4.324834213672926, gamma=0.0069477632349128635; total time=   0.2s\n",
      "[CV] END ....C=5.373608963748895, gamma=0.005591541708670301; total time=   0.2s\n",
      "[CV] END ....C=5.373608963748895, gamma=0.005591541708670301; total time=   0.2s\n",
      "[CV] END ....C=5.373608963748895, gamma=0.005591541708670301; total time=   0.2s\n",
      "[CV] END ....C=6.692407666414946, gamma=0.028357128925955207; total time=   0.2s\n",
      "[CV] END ....C=6.692407666414946, gamma=0.028357128925955207; total time=   0.2s\n",
      "[CV] END ....C=6.692407666414946, gamma=0.028357128925955207; total time=   0.2s\n",
      "[CV] END ....C=5.977875028221859, gamma=0.001353853410537178; total time=   0.2s\n",
      "[CV] END ....C=5.977875028221859, gamma=0.001353853410537178; total time=   0.2s\n",
      "[CV] END ....C=5.977875028221859, gamma=0.001353853410537178; total time=   0.2s\n",
      "[CV] END ....C=9.401425285771094, gamma=0.009691387954943245; total time=   0.2s\n",
      "[CV] END ....C=9.401425285771094, gamma=0.009691387954943245; total time=   0.2s\n",
      "[CV] END ....C=9.401425285771094, gamma=0.009691387954943245; total time=   0.2s\n",
      "[CV] END ....C=4.858673095375095, gamma=0.006786687935250835; total time=   0.2s\n",
      "[CV] END ....C=4.858673095375095, gamma=0.006786687935250835; total time=   0.2s\n",
      "[CV] END ....C=4.858673095375095, gamma=0.006786687935250835; total time=   0.2s\n",
      "[CV] END ....C=10.781271938116845, gamma=0.07790423872777415; total time=   0.2s\n",
      "[CV] END ....C=10.781271938116845, gamma=0.07790423872777415; total time=   0.2s\n",
      "[CV] END ....C=10.781271938116845, gamma=0.07790423872777415; total time=   0.2s\n",
      "[CV] END ...C=3.512689828849497, gamma=0.0019735579895504654; total time=   0.2s\n",
      "[CV] END ...C=3.512689828849497, gamma=0.0019735579895504654; total time=   0.2s\n",
      "[CV] END ...C=3.512689828849497, gamma=0.0019735579895504654; total time=   0.3s\n",
      "[CV] END ...C=6.0207722704232305, gamma=0.005405808859091777; total time=   0.2s\n",
      "[CV] END ...C=6.0207722704232305, gamma=0.005405808859091777; total time=   0.3s\n",
      "[CV] END ...C=6.0207722704232305, gamma=0.005405808859091777; total time=   0.3s\n",
      "[CV] END ...C=10.689715260972273, gamma=0.035455747738600114; total time=   0.3s\n",
      "[CV] END ...C=10.689715260972273, gamma=0.035455747738600114; total time=   0.3s\n",
      "[CV] END ...C=10.689715260972273, gamma=0.035455747738600114; total time=   0.3s\n"
     ]
    },
    {
     "data": {
      "text/plain": [
       "RandomizedSearchCV(cv=3, estimator=SVC(),\n",
       "                   param_distributions={'C': <scipy.stats._distn_infrastructure.rv_frozen object at 0x000002058EF99700>,\n",
       "                                        'gamma': <scipy.stats._distn_infrastructure.rv_frozen object at 0x000002058EF8DEB0>},\n",
       "                   verbose=2)"
      ]
     },
     "execution_count": 10,
     "metadata": {},
     "output_type": "execute_result"
    }
   ],
   "source": [
    "from sklearn.model_selection import RandomizedSearchCV\n",
    "from scipy.stats import reciprocal, uniform\n",
    "\n",
    "param_distributions = {\"gamma\": reciprocal(0.001, 0.1), \"C\": uniform(1, 10)}\n",
    "rnd_search_cv = RandomizedSearchCV(svm_clf, param_distributions, n_iter=10, verbose=2, cv=3)\n",
    "rnd_search_cv.fit(X_train_scaled[:1000], y_train[:1000])"
   ]
  },
  {
   "cell_type": "code",
   "execution_count": 11,
   "id": "b0cb0651",
   "metadata": {},
   "outputs": [
    {
     "data": {
      "text/plain": [
       "SVC(C=5.977875028221859, gamma=0.001353853410537178)"
      ]
     },
     "execution_count": 11,
     "metadata": {},
     "output_type": "execute_result"
    }
   ],
   "source": [
    "rnd_search_cv.best_estimator_\n"
   ]
  },
  {
   "cell_type": "code",
   "execution_count": 12,
   "id": "2a4f6269",
   "metadata": {},
   "outputs": [
    {
     "data": {
      "text/plain": [
       "0.8619907332482183"
      ]
     },
     "execution_count": 12,
     "metadata": {},
     "output_type": "execute_result"
    }
   ],
   "source": [
    "rnd_search_cv.best_score_\n"
   ]
  },
  {
   "cell_type": "code",
   "execution_count": 13,
   "id": "ff1184ee",
   "metadata": {},
   "outputs": [
    {
     "data": {
      "text/plain": [
       "SVC(C=5.977875028221859, gamma=0.001353853410537178)"
      ]
     },
     "execution_count": 13,
     "metadata": {},
     "output_type": "execute_result"
    }
   ],
   "source": [
    "rnd_search_cv.best_estimator_.fit(X_train_scaled, y_train)\n"
   ]
  },
  {
   "cell_type": "code",
   "execution_count": 14,
   "id": "5305e5e4",
   "metadata": {},
   "outputs": [
    {
     "data": {
      "text/plain": [
       "0.9729"
      ]
     },
     "execution_count": 14,
     "metadata": {},
     "output_type": "execute_result"
    }
   ],
   "source": [
    "y_pred = rnd_search_cv.best_estimator_.predict(X_test_scaled)\n",
    "accuracy_score(y_test, y_pred)"
   ]
  },
  {
   "cell_type": "code",
   "execution_count": null,
   "id": "e305141b",
   "metadata": {},
   "outputs": [],
   "source": []
  }
 ],
 "metadata": {
  "kernelspec": {
   "display_name": "Python 3 (ipykernel)",
   "language": "python",
   "name": "python3"
  },
  "language_info": {
   "codemirror_mode": {
    "name": "ipython",
    "version": 3
   },
   "file_extension": ".py",
   "mimetype": "text/x-python",
   "name": "python",
   "nbconvert_exporter": "python",
   "pygments_lexer": "ipython3",
   "version": "3.9.0"
  }
 },
 "nbformat": 4,
 "nbformat_minor": 5
}
